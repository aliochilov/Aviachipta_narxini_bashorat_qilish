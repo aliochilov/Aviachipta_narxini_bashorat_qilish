{
 "cells": [
  {
   "cell_type": "code",
   "execution_count": 1,
   "id": "e8c05dad",
   "metadata": {
    "_cell_guid": "b1076dfc-b9ad-4769-8c92-a6c4dae69d19",
    "_uuid": "8f2839f25d086af736a60e9eeb907d3b93b6e0e5",
    "execution": {
     "iopub.execute_input": "2023-03-20T16:29:50.210553Z",
     "iopub.status.busy": "2023-03-20T16:29:50.209998Z",
     "iopub.status.idle": "2023-03-20T16:29:50.226092Z",
     "shell.execute_reply": "2023-03-20T16:29:50.224055Z"
    },
    "papermill": {
     "duration": 0.028898,
     "end_time": "2023-03-20T16:29:50.230902",
     "exception": false,
     "start_time": "2023-03-20T16:29:50.202004",
     "status": "completed"
    },
    "tags": []
   },
   "outputs": [],
   "source": [
    "# This Python 3 environment comes with many helpful analytics libraries installed\n",
    "# It is defined by the kaggle/python Docker image: https://github.com/kaggle/docker-python\n",
    "# For example, here's several helpful packages to load\n",
    "\n",
    "import numpy as np # linear algebra\n",
    "import pandas as pd # /data processing, CSV file I/O (e.g. pd.read_csv)\n",
    "\n",
    "# Input data files are available in the read-only \"../input/\" directory\n",
    "# For example, running this (by clicking run or pressing Shift+Enter) will list all files under the input directory\n",
    "\n",
    "import os\n",
    "for dirname, _, filenames in os.walk('/kaggle/input'):\n",
    "    for filename in filenames:\n",
    "        print(os.path.join(dirname, filename))\n",
    "\n",
    "# You can write up to 20GB to the current directory (/kaggle/working/) that gets preserved as output when you create a version using \"Save & Run All\" \n",
    "# You can also write temporary files to /kaggle/temp/, but they won't be saved outside of the current session"
   ]
  },
  {
   "cell_type": "code",
   "execution_count": 2,
   "id": "1a247a0e",
   "metadata": {
    "execution": {
     "iopub.execute_input": "2023-03-20T16:29:50.244817Z",
     "iopub.status.busy": "2023-03-20T16:29:50.243983Z",
     "iopub.status.idle": "2023-03-20T16:29:55.450482Z",
     "shell.execute_reply": "2023-03-20T16:29:55.449005Z"
    },
    "papermill": {
     "duration": 5.218132,
     "end_time": "2023-03-20T16:29:55.454270",
     "exception": false,
     "start_time": "2023-03-20T16:29:50.236138",
     "status": "completed"
    },
    "tags": []
   },
   "outputs": [],
   "source": [
    "import matplotlib.pyplot as plt\n",
    "import seaborn as sns\n",
    "import pandas as pd\n",
    "from fastai.tabular.all import *\n",
    "from sklearn.model_selection import train_test_split\n",
    "\n",
    "from sklearn.metrics import mean_squared_error\n",
    "\n",
    "from sklearn.preprocessing import StandardScaler\n",
    "from sklearn.compose import ColumnTransformer\n",
    "from sklearn.impute import SimpleImputer\n",
    "from sklearn.preprocessing import OneHotEncoder, StandardScaler\n",
    "from sklearn.pipeline import Pipeline\n",
    "from sklearn import metrics \n",
    "from sklearn.metrics import mean_absolute_error, mean_squared_error\n",
    "\n",
    "\n",
    "from sklearn.linear_model import LogisticRegression\n",
    "from xgboost import XGBRegressor\n",
    "from sklearn.ensemble import RandomForestRegressor\n",
    "from sklearn.linear_model import LinearRegression\n"
   ]
  },
  {
   "cell_type": "code",
   "execution_count": 3,
   "id": "ab2acd44",
   "metadata": {
    "execution": {
     "iopub.execute_input": "2023-03-20T16:29:55.465386Z",
     "iopub.status.busy": "2023-03-20T16:29:55.464615Z",
     "iopub.status.idle": "2023-03-20T16:29:57.228364Z",
     "shell.execute_reply": "2023-03-20T16:29:57.227188Z"
    },
    "papermill": {
     "duration": 1.773329,
     "end_time": "2023-03-20T16:29:57.231749",
     "exception": false,
     "start_time": "2023-03-20T16:29:55.458420",
     "status": "completed"
    },
    "tags": []
   },
   "outputs": [],
   "source": [
    "\n",
    "\n",
    "test_set = pd.read_csv('https://github.com/aliochilov/Aviachipta_narxini_bashorat_qilish/blob/main/test_data.csv?raw=True')\n",
    "train_set = pd.read_csv('https://github.com/aliochilov/Aviachipta_narxini_bashorat_qilish/blob/main/train_data.csv?raw=True')\n",
    "y = train_set['price'].copy()\n",
    "train_set.drop(['id','flight'],inplace=True ,axis=1)\n",
    "\n",
    "test_set.drop(['id','flight'] ,axis=1)\n",
    "\n",
    "tst_df=pd.get_dummies(test_set)\n",
    "df = pd.get_dummies(train_set)\n",
    "\n",
    "\n"
   ]
  },
  {
   "cell_type": "code",
   "execution_count": 4,
   "id": "8fdfc7a9",
   "metadata": {
    "execution": {
     "iopub.execute_input": "2023-03-20T16:29:57.242725Z",
     "iopub.status.busy": "2023-03-20T16:29:57.242183Z",
     "iopub.status.idle": "2023-03-20T16:29:57.252363Z",
     "shell.execute_reply": "2023-03-20T16:29:57.250934Z"
    },
    "papermill": {
     "duration": 0.020287,
     "end_time": "2023-03-20T16:29:57.256715",
     "exception": false,
     "start_time": "2023-03-20T16:29:57.236428",
     "status": "completed"
    },
    "tags": []
   },
   "outputs": [
    {
     "data": {
      "text/plain": [
       "KFold(n_splits=10, random_state=None, shuffle=True)"
      ]
     },
     "execution_count": 4,
     "metadata": {},
     "output_type": "execute_result"
    }
   ],
   "source": [
    "from sklearn.model_selection import KFold\n",
    "kf = KFold(n_splits = 10,shuffle=True)\n",
    "kf"
   ]
  },
  {
   "cell_type": "code",
   "execution_count": 5,
   "id": "0a56890c",
   "metadata": {
    "execution": {
     "iopub.execute_input": "2023-03-20T16:29:57.267767Z",
     "iopub.status.busy": "2023-03-20T16:29:57.266452Z",
     "iopub.status.idle": "2023-03-20T16:29:57.274025Z",
     "shell.execute_reply": "2023-03-20T16:29:57.272732Z"
    },
    "papermill": {
     "duration": 0.016234,
     "end_time": "2023-03-20T16:29:57.276995",
     "exception": false,
     "start_time": "2023-03-20T16:29:57.260761",
     "status": "completed"
    },
    "tags": []
   },
   "outputs": [],
   "source": [
    "def get_score(model,X_train, X_test, y_train, y_test):\n",
    "    model.fit(X_train,y_train)\n",
    "    X = model.predict(X_test)\n",
    "    return np.sqrt(mean_squared_error(y_test, y_predict))\n",
    "\n"
   ]
  },
  {
   "cell_type": "code",
   "execution_count": 6,
   "id": "820350d2",
   "metadata": {
    "execution": {
     "iopub.execute_input": "2023-03-20T16:29:57.288854Z",
     "iopub.status.busy": "2023-03-20T16:29:57.287412Z",
     "iopub.status.idle": "2023-03-20T16:29:57.307057Z",
     "shell.execute_reply": "2023-03-20T16:29:57.305453Z"
    },
    "papermill": {
     "duration": 0.029452,
     "end_time": "2023-03-20T16:29:57.310673",
     "exception": false,
     "start_time": "2023-03-20T16:29:57.281221",
     "status": "completed"
    },
    "tags": []
   },
   "outputs": [],
   "source": [
    "dep_var=\"price\"\n",
    "cont_names, cat_names=cont_cat_split(df, 1, dep_var=dep_var)"
   ]
  },
  {
   "cell_type": "code",
   "execution_count": 7,
   "id": "dd2f9da4",
   "metadata": {
    "execution": {
     "iopub.execute_input": "2023-03-20T16:29:57.321418Z",
     "iopub.status.busy": "2023-03-20T16:29:57.320917Z",
     "iopub.status.idle": "2023-03-20T16:29:57.426381Z",
     "shell.execute_reply": "2023-03-20T16:29:57.424956Z"
    },
    "papermill": {
     "duration": 0.11488,
     "end_time": "2023-03-20T16:29:57.429814",
     "exception": false,
     "start_time": "2023-03-20T16:29:57.314934",
     "status": "completed"
    },
    "tags": []
   },
   "outputs": [],
   "source": [
    "scaler=StandardScaler()\n",
    "df[cont_names]=scaler.fit_transform(df[cont_names])\n",
    "tst_df[cont_names]=scaler.transform(tst_df[cont_names])\n",
    "\n",
    "features=tst_df.columns.tolist()"
   ]
  },
  {
   "cell_type": "code",
   "execution_count": 8,
   "id": "0ac2b140",
   "metadata": {
    "execution": {
     "iopub.execute_input": "2023-03-20T16:29:57.441271Z",
     "iopub.status.busy": "2023-03-20T16:29:57.440028Z",
     "iopub.status.idle": "2023-03-20T16:29:57.661108Z",
     "shell.execute_reply": "2023-03-20T16:29:57.658983Z"
    },
    "papermill": {
     "duration": 0.229555,
     "end_time": "2023-03-20T16:29:57.663623",
     "exception": true,
     "start_time": "2023-03-20T16:29:57.434068",
     "status": "failed"
    },
    "tags": []
   },
   "outputs": [
    {
     "ename": "KeyError",
     "evalue": "\"['id', 'flight_6E-102', 'flight_6E-121', 'flight_6E-126', 'flight_6E-131', 'flight_6E-132', 'flight_6E-135', 'flight_6E-136', 'flight_6E-139', 'flight_6E-149', 'flight_6E-152', 'flight_6E-156', 'flight_6E-157', 'flight_6E-161', 'flight_6E-165', 'flight_6E-171', 'flight_6E-176', 'flight_6E-179', 'flight_6E-186', 'flight_6E-192', 'flight_6E-193', 'flight_6E-198', 'flight_6E-199', 'flight_6E-2005', 'flight_6E-2026', 'flight_6E-2028', 'flight_6E-2031', 'flight_6E-2034', 'flight_6E-2036', 'flight_6E-2042', 'flight_6E-2046', 'flight_6E-2047', 'flight_6E-2061', 'flight_6E-2062', 'flight_6E-207', 'flight_6E-2077', 'flight_6E-2082', 'flight_6E-2083', 'flight_6E-2087', 'flight_6E-2093', 'flight_6E-2102', 'flight_6E-212', 'flight_6E-2131', 'flight_6E-2137', 'flight_6E-2147', 'flight_6E-2148', 'flight_6E-2154', 'flight_6E-2162', 'flight_6E-2172', 'flight_6E-2181', 'flight_6E-2188', 'flight_6E-2193', 'flight_6E-221', 'flight_6E-2247', 'flight_6E-2248', 'flight_6E-232', 'flight_6E-2329', 'flight_6E-2331', 'flight_6E-2336', 'flight_6E-2337', 'flight_6E-2338', 'flight_6E-2348', 'flight_6E-236', 'flight_6E-2367', 'flight_6E-2373', 'flight_6E-2456', 'flight_6E-246', 'flight_6E-248', 'flight_6E-2485', 'flight_6E-2514', 'flight_6E-2516', 'flight_6E-2518', 'flight_6E-255', 'flight_6E-261', 'flight_6E-2615', 'flight_6E-2616', 'flight_6E-2618', 'flight_6E-2685', 'flight_6E-269', 'flight_6E-2752', 'flight_6E-2753', 'flight_6E-276', 'flight_6E-283', 'flight_6E-285', 'flight_6E-286', 'flight_6E-289', 'flight_6E-292', 'flight_6E-294', 'flight_6E-295', 'flight_6E-309', 'flight_6E-312', 'flight_6E-318', 'flight_6E-321', 'flight_6E-331', 'flight_6E-345', 'flight_6E-354', 'flight_6E-356', 'flight_6E-357', 'flight_6E-358', 'flight_6E-369', 'flight_6E-371', 'flight_6E-375', 'flight_6E-379', 'flight_6E-384', 'flight_6E-397', 'flight_6E-404', 'flight_6E-413', 'flight_6E-416', 'flight_6E-417', 'flight_6E-426', 'flight_6E-438', 'flight_6E-484', 'flight_6E-487', 'flight_6E-495', 'flight_6E-496', 'flight_6E-5001', 'flight_6E-5002', 'flight_6E-5012', 'flight_6E-5013', 'flight_6E-5017', 'flight_6E-503', 'flight_6E-5031', 'flight_6E-5038', 'flight_6E-5042', 'flight_6E-5073', 'flight_6E-5088', 'flight_6E-512', 'flight_6E-514', 'flight_6E-515', 'flight_6E-5175', 'flight_6E-5202', 'flight_6E-5203', 'flight_6E-5207', 'flight_6E-5208', 'flight_6E-5209', 'flight_6E-5211', 'flight_6E-5214', 'flight_6E-5217', 'flight_6E-5236', 'flight_6E-5307', 'flight_6E-5308', 'flight_6E-531', 'flight_6E-5312', 'flight_6E-5313', 'flight_6E-5316', 'flight_6E-5328', 'flight_6E-5332', 'flight_6E-5338', 'flight_6E-534', 'flight_6E-5343', 'flight_6E-5344', 'flight_6E-5347', 'flight_6E-5352', 'flight_6E-5359', 'flight_6E-5365', 'flight_6E-5366', 'flight_6E-5368', 'flight_6E-5369', 'flight_6E-5371', 'flight_6E-5372', 'flight_6E-5373', 'flight_6E-5375', 'flight_6E-5376', 'flight_6E-5379', 'flight_6E-5382', 'flight_6E-5386', 'flight_6E-5391', 'flight_6E-5392', 'flight_6E-5394', 'flight_6E-5396', 'flight_6E-5398', 'flight_6E-5399', 'flight_6E-541', 'flight_6E-546', 'flight_6E-549', 'flight_6E-5501', 'flight_6E-552', 'flight_6E-562', 'flight_6E-563', 'flight_6E-566', 'flight_6E-581', 'flight_6E-588', 'flight_6E-591', 'flight_6E-595', 'flight_6E-599', 'flight_6E-6004', 'flight_6E-6006', 'flight_6E-6007', 'flight_6E-6012', 'flight_6E-6014', 'flight_6E-6016', 'flight_6E-6017', 'flight_6E-6021', 'flight_6E-6023', 'flight_6E-605', 'flight_6E-6051', 'flight_6E-606', 'flight_6E-6066', 'flight_6E-6067', 'flight_6E-607', 'flight_6E-6086', 'flight_6E-6087', 'flight_6E-6098', 'flight_6E-6104', 'flight_6E-6106', 'flight_6E-6111', 'flight_6E-6113', 'flight_6E-613', 'flight_6E-6137', 'flight_6E-6139', 'flight_6E-6148', 'flight_6E-6151', 'flight_6E-6171', 'flight_6E-6172', 'flight_6E-6178', 'flight_6E-6182', 'flight_6E-6187', 'flight_6E-6202', 'flight_6E-6205', 'flight_6E-6211', 'flight_6E-6212', 'flight_6E-6213', 'flight_6E-6214', 'flight_6E-6215', 'flight_6E-6217', 'flight_6E-6219', 'flight_6E-6222', 'flight_6E-6223', 'flight_6E-6227', 'flight_6E-6233', 'flight_6E-6234', 'flight_6E-6257', 'flight_6E-626', 'flight_6E-6261', 'flight_6E-627', 'flight_6E-6277', 'flight_6E-6278', 'flight_6E-6319', 'flight_6E-6324', 'flight_6E-6326', 'flight_6E-6339', 'flight_6E-6345', 'flight_6E-635', 'flight_6E-6366', 'flight_6E-638', 'flight_6E-6386', 'flight_6E-6433', 'flight_6E-6445', 'flight_6E-6464', 'flight_6E-6467', 'flight_6E-6488', 'flight_6E-6491', 'flight_6E-6505', 'flight_6E-654', 'flight_6E-6567', 'flight_6E-6591', 'flight_6E-6616', 'flight_6E-668', 'flight_6E-6684', 'flight_6E-6717', 'flight_6E-6721', 'flight_6E-6739', 'flight_6E-6749', 'flight_6E-676', 'flight_6E-6798', 'flight_6E-6809', 'flight_6E-6818', 'flight_6E-684', 'flight_6E-6865', 'flight_6E-6917', 'flight_6E-698', 'flight_6E-702', 'flight_6E-7062', 'flight_6E-7071', 'flight_6E-7127', 'flight_6E-713', 'flight_6E-7136', 'flight_6E-7149', 'flight_6E-7156', 'flight_6E-716', 'flight_6E-7177', 'flight_6E-7193', 'flight_6E-7201', 'flight_6E-7208', 'flight_6E-7211', 'flight_6E-7223', 'flight_6E-7224', 'flight_6E-7227', 'flight_6E-725', 'flight_6E-7261', 'flight_6E-7264', 'flight_6E-7292', 'flight_6E-7298', 'flight_6E-7403', 'flight_6E-7407', 'flight_6E-747', 'flight_6E-751', 'flight_6E-752', 'flight_6E-755', 'flight_6E-7561', 'flight_6E-7583', 'flight_6E-788', 'flight_6E-793', 'flight_6E-796', 'flight_6E-807', 'flight_6E-811', 'flight_6E-822', 'flight_6E-827', 'flight_6E-841', 'flight_6E-847', 'flight_6E-855', 'flight_6E-856', 'flight_6E-866', 'flight_6E-879', 'flight_6E-886', 'flight_6E-889', 'flight_6E-892', 'flight_6E-893', 'flight_6E-895', 'flight_6E-897', 'flight_6E-898', 'flight_6E-905', 'flight_6E-912', 'flight_6E-913', 'flight_6E-917', 'flight_6E-922', 'flight_6E-926', 'flight_6E-927', 'flight_6E-929', 'flight_6E-932', 'flight_6E-939', 'flight_6E-945', 'flight_6E-949', 'flight_6E-952', 'flight_6E-954', 'flight_6E-958', 'flight_6E-963', 'flight_6E-972', 'flight_6E-975', 'flight_6E-978', 'flight_6E-982', 'flight_6E-987', 'flight_6E-989', 'flight_6E-992', 'flight_AI-401', 'flight_AI-402', 'flight_AI-406', 'flight_AI-407', 'flight_AI-409', 'flight_AI-411', 'flight_AI-415', 'flight_AI-420', 'flight_AI-423', 'flight_AI-424', 'flight_AI-429', 'flight_AI-430', 'flight_AI-439', 'flight_AI-440', 'flight_AI-441', 'flight_AI-442', 'flight_AI-451', 'flight_AI-453', 'flight_AI-459', 'flight_AI-465', 'flight_AI-467', 'flight_AI-469', 'flight_AI-471', 'flight_AI-473', 'flight_AI-475', 'flight_AI-479', 'flight_AI-483', 'flight_AI-485', 'flight_AI-489', 'flight_AI-501', 'flight_AI-502', 'flight_AI-503', 'flight_AI-504', 'flight_AI-505', 'flight_AI-506', 'flight_AI-507', 'flight_AI-508', 'flight_AI-512', 'flight_AI-515', 'flight_AI-516', 'flight_AI-523', 'flight_AI-525', 'flight_AI-526', 'flight_AI-531', 'flight_AI-537', 'flight_AI-538', 'flight_AI-539', 'flight_AI-540', 'flight_AI-541', 'flight_AI-542', 'flight_AI-543', 'flight_AI-544', 'flight_AI-549', 'flight_AI-559', 'flight_AI-560', 'flight_AI-563', 'flight_AI-565', 'flight_AI-569', 'flight_AI-570', 'flight_AI-573', 'flight_AI-607', 'flight_AI-610', 'flight_AI-611', 'flight_AI-615', 'flight_AI-616', 'flight_AI-619', 'flight_AI-623', 'flight_AI-624', 'flight_AI-625', 'flight_AI-631', 'flight_AI-633', 'flight_AI-635', 'flight_AI-636', 'flight_AI-637', 'flight_AI-639', 'flight_AI-640', 'flight_AI-643', 'flight_AI-645', 'flight_AI-649', 'flight_AI-651', 'flight_AI-655', 'flight_AI-657', 'flight_AI-660', 'flight_AI-663', 'flight_AI-665', 'flight_AI-667', 'flight_AI-669', 'flight_AI-671', 'flight_AI-672', 'flight_AI-673', 'flight_AI-675', 'flight_AI-676', 'flight_AI-678', 'flight_AI-679', 'flight_AI-681', 'flight_AI-683', 'flight_AI-685', 'flight_AI-687', 'flight_AI-695', 'flight_AI-698', 'flight_AI-729', 'flight_AI-732', 'flight_AI-738', 'flight_AI-745', 'flight_AI-747', 'flight_AI-748', 'flight_AI-762', 'flight_AI-763', 'flight_AI-764', 'flight_AI-765', 'flight_AI-766', 'flight_AI-767', 'flight_AI-768', 'flight_AI-770', 'flight_AI-771', 'flight_AI-773', 'flight_AI-774', 'flight_AI-776', 'flight_AI-780', 'flight_AI-787', 'flight_AI-803', 'flight_AI-804', 'flight_AI-805', 'flight_AI-806', 'flight_AI-807', 'flight_AI-808', 'flight_AI-809', 'flight_AI-811', 'flight_AI-837', 'flight_AI-838', 'flight_AI-839', 'flight_AI-840', 'flight_AI-861', 'flight_AI-864', 'flight_AI-865', 'flight_AI-867', 'flight_AI-868', 'flight_AI-877', 'flight_AI-883', 'flight_AI-887', 'flight_AI-888', 'flight_AI-889', 'flight_AI-9501', 'flight_AI-9505', 'flight_AI-9517', 'flight_AI-9518', 'flight_AI-9547', 'flight_AI-9643', 'flight_AI-9657', 'flight_AI-9720', 'flight_AI-9745', 'flight_AI-9755', 'flight_AI-9857', 'flight_AI-9875', 'flight_AI-9876', 'flight_AI-9881', 'flight_AI-9885', 'flight_AI-9887', 'flight_AI-9891', 'flight_AI-9893', 'flight_AI-9894', 'flight_AI-9925', 'flight_AI-9927', 'flight_G8-101', 'flight_G8-1010', 'flight_G8-102', 'flight_G8-103', 'flight_G8-113', 'flight_G8-116', 'flight_G8-1171', 'flight_G8-118', 'flight_G8-119', 'flight_G8-123', 'flight_G8-125', 'flight_G8-133', 'flight_G8-1404', 'flight_G8-143', 'flight_G8-145', 'flight_G8-146', 'flight_G8-153', 'flight_G8-165', 'flight_G8-171', 'flight_G8-173', 'flight_G8-191', 'flight_G8-194', 'flight_G8-199', 'flight_G8-211', 'flight_G8-2231', 'flight_G8-227', 'flight_G8-231', 'flight_G8-237', 'flight_G8-2401', 'flight_G8-241', 'flight_G8-2501', 'flight_G8-2504', 'flight_G8-2508', 'flight_G8-2509', 'flight_G8-2511', 'flight_G8-2513', 'flight_G8-2605', 'flight_G8-2606', 'flight_G8-275', 'flight_G8-283', 'flight_G8-285', 'flight_G8-286', 'flight_G8-287', 'flight_G8-292', 'flight_G8-294', 'flight_G8-295', 'flight_G8-302', 'flight_G8-304', 'flight_G8-305', 'flight_G8-306', 'flight_G8-312', 'flight_G8-317', 'flight_G8-319', 'flight_G8-320', 'flight_G8-321', 'flight_G8-323', 'flight_G8-325', 'flight_G8-327', 'flight_G8-329', 'flight_G8-330', 'flight_G8-331', 'flight_G8-334', 'flight_G8-336', 'flight_G8-338', 'flight_G8-339', 'flight_G8-341', 'flight_G8-345', 'flight_G8-346', 'flight_G8-347', 'flight_G8-351', 'flight_G8-354', 'flight_G8-364', 'flight_G8-365', 'flight_G8-371', 'flight_G8-382', 'flight_G8-383', 'flight_G8-385', 'flight_G8-387', 'flight_G8-390', 'flight_G8-391', 'flight_G8-392', 'flight_G8-393', 'flight_G8-395', 'flight_G8-398', 'flight_G8-399', 'flight_G8-404', 'flight_G8-423', 'flight_G8-424', 'flight_G8-426', 'flight_G8-451', 'flight_G8-461', 'flight_G8-504', 'flight_G8-505', 'flight_G8-506', 'flight_G8-509', 'flight_G8-510', 'flight_G8-511', 'flight_G8-512', 'flight_G8-515', 'flight_G8-518', 'flight_G8-519', 'flight_G8-520', 'flight_G8-530', 'flight_G8-532', 'flight_G8-537', 'flight_G8-551', 'flight_G8-571', 'flight_G8-575', 'flight_G8-625', 'flight_G8-626', 'flight_G8-681', 'flight_G8-713', 'flight_G8-717', 'flight_G8-7533', 'flight_G8-7534', 'flight_G8-7535', 'flight_G8-7536', 'flight_G8-7537', 'flight_G8-7538', 'flight_G8-7543', 'flight_G8-7545', 'flight_G8-7547', 'flight_G8-7548', 'flight_G8-7549', 'flight_G8-7553', 'flight_G8-7555', 'flight_G8-7556', 'flight_G8-7559', 'flight_G8-7560', 'flight_G8-7562', 'flight_G8-787', 'flight_G8-790', 'flight_G8-791', 'flight_G8-792', 'flight_G8-803', 'flight_G8-808', 'flight_G8-812', 'flight_G8-813', 'flight_G8-873', 'flight_I5-1228', 'flight_I5-1229', 'flight_I5-1321', 'flight_I5-1426', 'flight_I5-1451', 'flight_I5-1517', 'flight_I5-1518', 'flight_I5-1528', 'flight_I5-1529', 'flight_I5-1530', 'flight_I5-1531', 'flight_I5-1540', 'flight_I5-1543', 'flight_I5-1561', 'flight_I5-1562', 'flight_I5-1563', 'flight_I5-1564', 'flight_I5-1569', 'flight_I5-1621', 'flight_I5-1727', 'flight_I5-1780', 'flight_I5-1782', 'flight_I5-1982', 'flight_I5-2461', 'flight_I5-2462', 'flight_I5-2473', 'flight_I5-2991', 'flight_I5-319', 'flight_I5-330', 'flight_I5-336', 'flight_I5-338', 'flight_I5-371', 'flight_I5-410', 'flight_I5-423', 'flight_I5-482', 'flight_I5-510', 'flight_I5-517', 'flight_I5-547', 'flight_I5-548', 'flight_I5-550', 'flight_I5-552', 'flight_I5-556', 'flight_I5-557', 'flight_I5-559', 'flight_I5-588', 'flight_I5-589', 'flight_I5-620', 'flight_I5-631', 'flight_I5-678', 'flight_I5-710', 'flight_I5-711', 'flight_I5-713', 'flight_I5-721', 'flight_I5-722', 'flight_I5-736', 'flight_I5-740', 'flight_I5-741', 'flight_I5-744', 'flight_I5-747', 'flight_I5-749', 'flight_I5-764', 'flight_I5-766', 'flight_I5-767', 'flight_I5-773', 'flight_I5-775', 'flight_I5-783', 'flight_I5-784', 'flight_I5-787', 'flight_I5-791', 'flight_I5-792', 'flight_I5-818', 'flight_I5-819', 'flight_I5-820', 'flight_I5-821', 'flight_I5-830', 'flight_I5-941', 'flight_I5-942', 'flight_I5-972', 'flight_I5-974', 'flight_I5-991', 'flight_I5-992', 'flight_I5-996', 'flight_SG-1071', 'flight_SG-1089', 'flight_SG-198', 'flight_SG-209', 'flight_SG-2277', 'flight_SG-241', 'flight_SG-2508', 'flight_SG-251', 'flight_SG-254', 'flight_SG-274', 'flight_SG-276', 'flight_SG-3002', 'flight_SG-3023', 'flight_SG-3027', 'flight_SG-3229', 'flight_SG-3233', 'flight_SG-3281', 'flight_SG-3321', 'flight_SG-337', 'flight_SG-339', 'flight_SG-3440', 'flight_SG-3719', 'flight_SG-3723', 'flight_SG-3835', 'flight_SG-3839', 'flight_SG-387', 'flight_SG-390', 'flight_SG-395', 'flight_SG-4003', 'flight_SG-4009', 'flight_SG-401', 'flight_SG-4010', 'flight_SG-4025', 'flight_SG-4027', 'flight_SG-4031', 'flight_SG-406', 'flight_SG-415', 'flight_SG-4417', 'flight_SG-467', 'flight_SG-475', 'flight_SG-488', 'flight_SG-489', 'flight_SG-5069', 'flight_SG-5073', 'flight_SG-5093', 'flight_SG-516', 'flight_SG-520', 'flight_SG-531', 'flight_SG-535', 'flight_SG-6003', 'flight_SG-6005', 'flight_SG-6027', 'flight_SG-611', 'flight_SG-612', 'flight_SG-634', 'flight_SG-635', 'flight_SG-678', 'flight_SG-679', 'flight_SG-731', 'flight_SG-732', 'flight_SG-8107', 'flight_SG-8130', 'flight_SG-8152', 'flight_SG-8157', 'flight_SG-8158', 'flight_SG-8169', 'flight_SG-8185', 'flight_SG-8187', 'flight_SG-8207', 'flight_SG-8253', 'flight_SG-8264', 'flight_SG-8645', 'flight_SG-8702', 'flight_SG-8709', 'flight_SG-8710', 'flight_SG-8721', 'flight_SG-8723', 'flight_SG-8803', 'flight_SG-8903', 'flight_SG-8905', 'flight_SG-8910', 'flight_SG-8938', 'flight_SG-8941', 'flight_SG-8946', 'flight_SG-923', 'flight_SG-946', 'flight_SG-958', 'flight_UK-613', 'flight_UK-621', 'flight_UK-627', 'flight_UK-637', 'flight_UK-651', 'flight_UK-653', 'flight_UK-655', 'flight_UK-657', 'flight_UK-659', 'flight_UK-673', 'flight_UK-705', 'flight_UK-706', 'flight_UK-707', 'flight_UK-708', 'flight_UK-720', 'flight_UK-721', 'flight_UK-727', 'flight_UK-737', 'flight_UK-738', 'flight_UK-741', 'flight_UK-747', 'flight_UK-755', 'flight_UK-771', 'flight_UK-772', 'flight_UK-773', 'flight_UK-774', 'flight_UK-775', 'flight_UK-776', 'flight_UK-778', 'flight_UK-801', 'flight_UK-802', 'flight_UK-807', 'flight_UK-808', 'flight_UK-809', 'flight_UK-810', 'flight_UK-811', 'flight_UK-812', 'flight_UK-813', 'flight_UK-814', 'flight_UK-815', 'flight_UK-816', 'flight_UK-817', 'flight_UK-818', 'flight_UK-819', 'flight_UK-820', 'flight_UK-821', 'flight_UK-822', 'flight_UK-823', 'flight_UK-824', 'flight_UK-825', 'flight_UK-826', 'flight_UK-828', 'flight_UK-829', 'flight_UK-830', 'flight_UK-832', 'flight_UK-833', 'flight_UK-834', 'flight_UK-835', 'flight_UK-836', 'flight_UK-837', 'flight_UK-838', 'flight_UK-839', 'flight_UK-841', 'flight_UK-845', 'flight_UK-846', 'flight_UK-849', 'flight_UK-850', 'flight_UK-851', 'flight_UK-852', 'flight_UK-853', 'flight_UK-854', 'flight_UK-855', 'flight_UK-857', 'flight_UK-858', 'flight_UK-859', 'flight_UK-860', 'flight_UK-863', 'flight_UK-864', 'flight_UK-865', 'flight_UK-866', 'flight_UK-867', 'flight_UK-870', 'flight_UK-871', 'flight_UK-873', 'flight_UK-874', 'flight_UK-875', 'flight_UK-876', 'flight_UK-877', 'flight_UK-878', 'flight_UK-879', 'flight_UK-880', 'flight_UK-890', 'flight_UK-893', 'flight_UK-894', 'flight_UK-897', 'flight_UK-898', 'flight_UK-899', 'flight_UK-902', 'flight_UK-910', 'flight_UK-927', 'flight_UK-928', 'flight_UK-930', 'flight_UK-933', 'flight_UK-940', 'flight_UK-941', 'flight_UK-943', 'flight_UK-944', 'flight_UK-945', 'flight_UK-950', 'flight_UK-951', 'flight_UK-953', 'flight_UK-954', 'flight_UK-955', 'flight_UK-958', 'flight_UK-960', 'flight_UK-963', 'flight_UK-970', 'flight_UK-975', 'flight_UK-977', 'flight_UK-981', 'flight_UK-985', 'flight_UK-986', 'flight_UK-988', 'flight_UK-993', 'flight_UK-994', 'flight_UK-995', 'flight_UK-996'] not in index\"",
     "output_type": "error",
     "traceback": [
      "\u001b[0;31m---------------------------------------------------------------------------\u001b[0m",
      "\u001b[0;31mKeyError\u001b[0m                                  Traceback (most recent call last)",
      "\u001b[0;32m/tmp/ipykernel_19/3500967659.py\u001b[0m in \u001b[0;36m<module>\u001b[0;34m\u001b[0m\n\u001b[1;32m      3\u001b[0m \u001b[0mscores_r\u001b[0m \u001b[0;34m=\u001b[0m \u001b[0;34m[\u001b[0m\u001b[0;34m]\u001b[0m\u001b[0;34m\u001b[0m\u001b[0;34m\u001b[0m\u001b[0m\n\u001b[1;32m      4\u001b[0m \u001b[0;32mfor\u001b[0m \u001b[0mfold\u001b[0m\u001b[0;34m,\u001b[0m\u001b[0;34m(\u001b[0m\u001b[0mtrain_idxs\u001b[0m\u001b[0;34m,\u001b[0m\u001b[0mvalid_idxs\u001b[0m\u001b[0;34m)\u001b[0m \u001b[0;32min\u001b[0m \u001b[0menumerate\u001b[0m\u001b[0;34m(\u001b[0m\u001b[0mkf\u001b[0m\u001b[0;34m.\u001b[0m\u001b[0msplit\u001b[0m\u001b[0;34m(\u001b[0m\u001b[0mX\u001b[0m\u001b[0;34m=\u001b[0m\u001b[0mdf\u001b[0m\u001b[0;34m)\u001b[0m\u001b[0;34m)\u001b[0m\u001b[0;34m:\u001b[0m\u001b[0;34m\u001b[0m\u001b[0;34m\u001b[0m\u001b[0m\n\u001b[0;32m----> 5\u001b[0;31m     \u001b[0mtrain_xs\u001b[0m\u001b[0;34m,\u001b[0m \u001b[0mtrain_y\u001b[0m\u001b[0;34m=\u001b[0m\u001b[0mdf\u001b[0m\u001b[0;34m.\u001b[0m\u001b[0miloc\u001b[0m\u001b[0;34m[\u001b[0m\u001b[0mtrain_idxs\u001b[0m\u001b[0;34m]\u001b[0m\u001b[0;34m[\u001b[0m\u001b[0mfeatures\u001b[0m\u001b[0;34m]\u001b[0m\u001b[0;34m,\u001b[0m \u001b[0mdf\u001b[0m\u001b[0;34m.\u001b[0m\u001b[0miloc\u001b[0m\u001b[0;34m[\u001b[0m\u001b[0mtrain_idxs\u001b[0m\u001b[0;34m]\u001b[0m\u001b[0;34m[\u001b[0m\u001b[0mdep_var\u001b[0m\u001b[0;34m]\u001b[0m\u001b[0;34m\u001b[0m\u001b[0;34m\u001b[0m\u001b[0m\n\u001b[0m\u001b[1;32m      6\u001b[0m     \u001b[0mvalid_xs\u001b[0m\u001b[0;34m,\u001b[0m \u001b[0mvalid_y\u001b[0m\u001b[0;34m=\u001b[0m\u001b[0mdf\u001b[0m\u001b[0;34m.\u001b[0m\u001b[0miloc\u001b[0m\u001b[0;34m[\u001b[0m\u001b[0mvalid_idxs\u001b[0m\u001b[0;34m]\u001b[0m\u001b[0;34m[\u001b[0m\u001b[0mfeatures\u001b[0m\u001b[0;34m]\u001b[0m\u001b[0;34m,\u001b[0m \u001b[0mdf\u001b[0m\u001b[0;34m.\u001b[0m\u001b[0miloc\u001b[0m\u001b[0;34m[\u001b[0m\u001b[0mvalid_idxs\u001b[0m\u001b[0;34m]\u001b[0m\u001b[0;34m[\u001b[0m\u001b[0mdep_var\u001b[0m\u001b[0;34m]\u001b[0m\u001b[0;34m\u001b[0m\u001b[0;34m\u001b[0m\u001b[0m\n\u001b[1;32m      7\u001b[0m     \u001b[0mtst_xs\u001b[0m\u001b[0;34m=\u001b[0m\u001b[0mtst_df\u001b[0m\u001b[0;34m[\u001b[0m\u001b[0mfeatures\u001b[0m\u001b[0;34m]\u001b[0m\u001b[0;34m\u001b[0m\u001b[0;34m\u001b[0m\u001b[0m\n",
      "\u001b[0;32m/opt/conda/lib/python3.7/site-packages/pandas/core/frame.py\u001b[0m in \u001b[0;36m__getitem__\u001b[0;34m(self, key)\u001b[0m\n\u001b[1;32m   3462\u001b[0m             \u001b[0;32mif\u001b[0m \u001b[0mis_iterator\u001b[0m\u001b[0;34m(\u001b[0m\u001b[0mkey\u001b[0m\u001b[0;34m)\u001b[0m\u001b[0;34m:\u001b[0m\u001b[0;34m\u001b[0m\u001b[0;34m\u001b[0m\u001b[0m\n\u001b[1;32m   3463\u001b[0m                 \u001b[0mkey\u001b[0m \u001b[0;34m=\u001b[0m \u001b[0mlist\u001b[0m\u001b[0;34m(\u001b[0m\u001b[0mkey\u001b[0m\u001b[0;34m)\u001b[0m\u001b[0;34m\u001b[0m\u001b[0;34m\u001b[0m\u001b[0m\n\u001b[0;32m-> 3464\u001b[0;31m             \u001b[0mindexer\u001b[0m \u001b[0;34m=\u001b[0m \u001b[0mself\u001b[0m\u001b[0;34m.\u001b[0m\u001b[0mloc\u001b[0m\u001b[0;34m.\u001b[0m\u001b[0m_get_listlike_indexer\u001b[0m\u001b[0;34m(\u001b[0m\u001b[0mkey\u001b[0m\u001b[0;34m,\u001b[0m \u001b[0maxis\u001b[0m\u001b[0;34m=\u001b[0m\u001b[0;36m1\u001b[0m\u001b[0;34m)\u001b[0m\u001b[0;34m[\u001b[0m\u001b[0;36m1\u001b[0m\u001b[0;34m]\u001b[0m\u001b[0;34m\u001b[0m\u001b[0;34m\u001b[0m\u001b[0m\n\u001b[0m\u001b[1;32m   3465\u001b[0m \u001b[0;34m\u001b[0m\u001b[0m\n\u001b[1;32m   3466\u001b[0m         \u001b[0;31m# take() does not accept boolean indexers\u001b[0m\u001b[0;34m\u001b[0m\u001b[0;34m\u001b[0m\u001b[0;34m\u001b[0m\u001b[0m\n",
      "\u001b[0;32m/opt/conda/lib/python3.7/site-packages/pandas/core/indexing.py\u001b[0m in \u001b[0;36m_get_listlike_indexer\u001b[0;34m(self, key, axis)\u001b[0m\n\u001b[1;32m   1312\u001b[0m             \u001b[0mkeyarr\u001b[0m\u001b[0;34m,\u001b[0m \u001b[0mindexer\u001b[0m\u001b[0;34m,\u001b[0m \u001b[0mnew_indexer\u001b[0m \u001b[0;34m=\u001b[0m \u001b[0max\u001b[0m\u001b[0;34m.\u001b[0m\u001b[0m_reindex_non_unique\u001b[0m\u001b[0;34m(\u001b[0m\u001b[0mkeyarr\u001b[0m\u001b[0;34m)\u001b[0m\u001b[0;34m\u001b[0m\u001b[0;34m\u001b[0m\u001b[0m\n\u001b[1;32m   1313\u001b[0m \u001b[0;34m\u001b[0m\u001b[0m\n\u001b[0;32m-> 1314\u001b[0;31m         \u001b[0mself\u001b[0m\u001b[0;34m.\u001b[0m\u001b[0m_validate_read_indexer\u001b[0m\u001b[0;34m(\u001b[0m\u001b[0mkeyarr\u001b[0m\u001b[0;34m,\u001b[0m \u001b[0mindexer\u001b[0m\u001b[0;34m,\u001b[0m \u001b[0maxis\u001b[0m\u001b[0;34m)\u001b[0m\u001b[0;34m\u001b[0m\u001b[0;34m\u001b[0m\u001b[0m\n\u001b[0m\u001b[1;32m   1315\u001b[0m \u001b[0;34m\u001b[0m\u001b[0m\n\u001b[1;32m   1316\u001b[0m         if needs_i8_conversion(ax.dtype) or isinstance(\n",
      "\u001b[0;32m/opt/conda/lib/python3.7/site-packages/pandas/core/indexing.py\u001b[0m in \u001b[0;36m_validate_read_indexer\u001b[0;34m(self, key, indexer, axis)\u001b[0m\n\u001b[1;32m   1375\u001b[0m \u001b[0;34m\u001b[0m\u001b[0m\n\u001b[1;32m   1376\u001b[0m             \u001b[0mnot_found\u001b[0m \u001b[0;34m=\u001b[0m \u001b[0mlist\u001b[0m\u001b[0;34m(\u001b[0m\u001b[0mensure_index\u001b[0m\u001b[0;34m(\u001b[0m\u001b[0mkey\u001b[0m\u001b[0;34m)\u001b[0m\u001b[0;34m[\u001b[0m\u001b[0mmissing_mask\u001b[0m\u001b[0;34m.\u001b[0m\u001b[0mnonzero\u001b[0m\u001b[0;34m(\u001b[0m\u001b[0;34m)\u001b[0m\u001b[0;34m[\u001b[0m\u001b[0;36m0\u001b[0m\u001b[0;34m]\u001b[0m\u001b[0;34m]\u001b[0m\u001b[0;34m.\u001b[0m\u001b[0munique\u001b[0m\u001b[0;34m(\u001b[0m\u001b[0;34m)\u001b[0m\u001b[0;34m)\u001b[0m\u001b[0;34m\u001b[0m\u001b[0;34m\u001b[0m\u001b[0m\n\u001b[0;32m-> 1377\u001b[0;31m             \u001b[0;32mraise\u001b[0m \u001b[0mKeyError\u001b[0m\u001b[0;34m(\u001b[0m\u001b[0;34mf\"{not_found} not in index\"\u001b[0m\u001b[0;34m)\u001b[0m\u001b[0;34m\u001b[0m\u001b[0;34m\u001b[0m\u001b[0m\n\u001b[0m\u001b[1;32m   1378\u001b[0m \u001b[0;34m\u001b[0m\u001b[0m\n\u001b[1;32m   1379\u001b[0m \u001b[0;34m\u001b[0m\u001b[0m\n",
      "\u001b[0;31mKeyError\u001b[0m: \"['id', 'flight_6E-102', 'flight_6E-121', 'flight_6E-126', 'flight_6E-131', 'flight_6E-132', 'flight_6E-135', 'flight_6E-136', 'flight_6E-139', 'flight_6E-149', 'flight_6E-152', 'flight_6E-156', 'flight_6E-157', 'flight_6E-161', 'flight_6E-165', 'flight_6E-171', 'flight_6E-176', 'flight_6E-179', 'flight_6E-186', 'flight_6E-192', 'flight_6E-193', 'flight_6E-198', 'flight_6E-199', 'flight_6E-2005', 'flight_6E-2026', 'flight_6E-2028', 'flight_6E-2031', 'flight_6E-2034', 'flight_6E-2036', 'flight_6E-2042', 'flight_6E-2046', 'flight_6E-2047', 'flight_6E-2061', 'flight_6E-2062', 'flight_6E-207', 'flight_6E-2077', 'flight_6E-2082', 'flight_6E-2083', 'flight_6E-2087', 'flight_6E-2093', 'flight_6E-2102', 'flight_6E-212', 'flight_6E-2131', 'flight_6E-2137', 'flight_6E-2147', 'flight_6E-2148', 'flight_6E-2154', 'flight_6E-2162', 'flight_6E-2172', 'flight_6E-2181', 'flight_6E-2188', 'flight_6E-2193', 'flight_6E-221', 'flight_6E-2247', 'flight_6E-2248', 'flight_6E-232', 'flight_6E-2329', 'flight_6E-2331', 'flight_6E-2336', 'flight_6E-2337', 'flight_6E-2338', 'flight_6E-2348', 'flight_6E-236', 'flight_6E-2367', 'flight_6E-2373', 'flight_6E-2456', 'flight_6E-246', 'flight_6E-248', 'flight_6E-2485', 'flight_6E-2514', 'flight_6E-2516', 'flight_6E-2518', 'flight_6E-255', 'flight_6E-261', 'flight_6E-2615', 'flight_6E-2616', 'flight_6E-2618', 'flight_6E-2685', 'flight_6E-269', 'flight_6E-2752', 'flight_6E-2753', 'flight_6E-276', 'flight_6E-283', 'flight_6E-285', 'flight_6E-286', 'flight_6E-289', 'flight_6E-292', 'flight_6E-294', 'flight_6E-295', 'flight_6E-309', 'flight_6E-312', 'flight_6E-318', 'flight_6E-321', 'flight_6E-331', 'flight_6E-345', 'flight_6E-354', 'flight_6E-356', 'flight_6E-357', 'flight_6E-358', 'flight_6E-369', 'flight_6E-371', 'flight_6E-375', 'flight_6E-379', 'flight_6E-384', 'flight_6E-397', 'flight_6E-404', 'flight_6E-413', 'flight_6E-416', 'flight_6E-417', 'flight_6E-426', 'flight_6E-438', 'flight_6E-484', 'flight_6E-487', 'flight_6E-495', 'flight_6E-496', 'flight_6E-5001', 'flight_6E-5002', 'flight_6E-5012', 'flight_6E-5013', 'flight_6E-5017', 'flight_6E-503', 'flight_6E-5031', 'flight_6E-5038', 'flight_6E-5042', 'flight_6E-5073', 'flight_6E-5088', 'flight_6E-512', 'flight_6E-514', 'flight_6E-515', 'flight_6E-5175', 'flight_6E-5202', 'flight_6E-5203', 'flight_6E-5207', 'flight_6E-5208', 'flight_6E-5209', 'flight_6E-5211', 'flight_6E-5214', 'flight_6E-5217', 'flight_6E-5236', 'flight_6E-5307', 'flight_6E-5308', 'flight_6E-531', 'flight_6E-5312', 'flight_6E-5313', 'flight_6E-5316', 'flight_6E-5328', 'flight_6E-5332', 'flight_6E-5338', 'flight_6E-534', 'flight_6E-5343', 'flight_6E-5344', 'flight_6E-5347', 'flight_6E-5352', 'flight_6E-5359', 'flight_6E-5365', 'flight_6E-5366', 'flight_6E-5368', 'flight_6E-5369', 'flight_6E-5371', 'flight_6E-5372', 'flight_6E-5373', 'flight_6E-5375', 'flight_6E-5376', 'flight_6E-5379', 'flight_6E-5382', 'flight_6E-5386', 'flight_6E-5391', 'flight_6E-5392', 'flight_6E-5394', 'flight_6E-5396', 'flight_6E-5398', 'flight_6E-5399', 'flight_6E-541', 'flight_6E-546', 'flight_6E-549', 'flight_6E-5501', 'flight_6E-552', 'flight_6E-562', 'flight_6E-563', 'flight_6E-566', 'flight_6E-581', 'flight_6E-588', 'flight_6E-591', 'flight_6E-595', 'flight_6E-599', 'flight_6E-6004', 'flight_6E-6006', 'flight_6E-6007', 'flight_6E-6012', 'flight_6E-6014', 'flight_6E-6016', 'flight_6E-6017', 'flight_6E-6021', 'flight_6E-6023', 'flight_6E-605', 'flight_6E-6051', 'flight_6E-606', 'flight_6E-6066', 'flight_6E-6067', 'flight_6E-607', 'flight_6E-6086', 'flight_6E-6087', 'flight_6E-6098', 'flight_6E-6104', 'flight_6E-6106', 'flight_6E-6111', 'flight_6E-6113', 'flight_6E-613', 'flight_6E-6137', 'flight_6E-6139', 'flight_6E-6148', 'flight_6E-6151', 'flight_6E-6171', 'flight_6E-6172', 'flight_6E-6178', 'flight_6E-6182', 'flight_6E-6187', 'flight_6E-6202', 'flight_6E-6205', 'flight_6E-6211', 'flight_6E-6212', 'flight_6E-6213', 'flight_6E-6214', 'flight_6E-6215', 'flight_6E-6217', 'flight_6E-6219', 'flight_6E-6222', 'flight_6E-6223', 'flight_6E-6227', 'flight_6E-6233', 'flight_6E-6234', 'flight_6E-6257', 'flight_6E-626', 'flight_6E-6261', 'flight_6E-627', 'flight_6E-6277', 'flight_6E-6278', 'flight_6E-6319', 'flight_6E-6324', 'flight_6E-6326', 'flight_6E-6339', 'flight_6E-6345', 'flight_6E-635', 'flight_6E-6366', 'flight_6E-638', 'flight_6E-6386', 'flight_6E-6433', 'flight_6E-6445', 'flight_6E-6464', 'flight_6E-6467', 'flight_6E-6488', 'flight_6E-6491', 'flight_6E-6505', 'flight_6E-654', 'flight_6E-6567', 'flight_6E-6591', 'flight_6E-6616', 'flight_6E-668', 'flight_6E-6684', 'flight_6E-6717', 'flight_6E-6721', 'flight_6E-6739', 'flight_6E-6749', 'flight_6E-676', 'flight_6E-6798', 'flight_6E-6809', 'flight_6E-6818', 'flight_6E-684', 'flight_6E-6865', 'flight_6E-6917', 'flight_6E-698', 'flight_6E-702', 'flight_6E-7062', 'flight_6E-7071', 'flight_6E-7127', 'flight_6E-713', 'flight_6E-7136', 'flight_6E-7149', 'flight_6E-7156', 'flight_6E-716', 'flight_6E-7177', 'flight_6E-7193', 'flight_6E-7201', 'flight_6E-7208', 'flight_6E-7211', 'flight_6E-7223', 'flight_6E-7224', 'flight_6E-7227', 'flight_6E-725', 'flight_6E-7261', 'flight_6E-7264', 'flight_6E-7292', 'flight_6E-7298', 'flight_6E-7403', 'flight_6E-7407', 'flight_6E-747', 'flight_6E-751', 'flight_6E-752', 'flight_6E-755', 'flight_6E-7561', 'flight_6E-7583', 'flight_6E-788', 'flight_6E-793', 'flight_6E-796', 'flight_6E-807', 'flight_6E-811', 'flight_6E-822', 'flight_6E-827', 'flight_6E-841', 'flight_6E-847', 'flight_6E-855', 'flight_6E-856', 'flight_6E-866', 'flight_6E-879', 'flight_6E-886', 'flight_6E-889', 'flight_6E-892', 'flight_6E-893', 'flight_6E-895', 'flight_6E-897', 'flight_6E-898', 'flight_6E-905', 'flight_6E-912', 'flight_6E-913', 'flight_6E-917', 'flight_6E-922', 'flight_6E-926', 'flight_6E-927', 'flight_6E-929', 'flight_6E-932', 'flight_6E-939', 'flight_6E-945', 'flight_6E-949', 'flight_6E-952', 'flight_6E-954', 'flight_6E-958', 'flight_6E-963', 'flight_6E-972', 'flight_6E-975', 'flight_6E-978', 'flight_6E-982', 'flight_6E-987', 'flight_6E-989', 'flight_6E-992', 'flight_AI-401', 'flight_AI-402', 'flight_AI-406', 'flight_AI-407', 'flight_AI-409', 'flight_AI-411', 'flight_AI-415', 'flight_AI-420', 'flight_AI-423', 'flight_AI-424', 'flight_AI-429', 'flight_AI-430', 'flight_AI-439', 'flight_AI-440', 'flight_AI-441', 'flight_AI-442', 'flight_AI-451', 'flight_AI-453', 'flight_AI-459', 'flight_AI-465', 'flight_AI-467', 'flight_AI-469', 'flight_AI-471', 'flight_AI-473', 'flight_AI-475', 'flight_AI-479', 'flight_AI-483', 'flight_AI-485', 'flight_AI-489', 'flight_AI-501', 'flight_AI-502', 'flight_AI-503', 'flight_AI-504', 'flight_AI-505', 'flight_AI-506', 'flight_AI-507', 'flight_AI-508', 'flight_AI-512', 'flight_AI-515', 'flight_AI-516', 'flight_AI-523', 'flight_AI-525', 'flight_AI-526', 'flight_AI-531', 'flight_AI-537', 'flight_AI-538', 'flight_AI-539', 'flight_AI-540', 'flight_AI-541', 'flight_AI-542', 'flight_AI-543', 'flight_AI-544', 'flight_AI-549', 'flight_AI-559', 'flight_AI-560', 'flight_AI-563', 'flight_AI-565', 'flight_AI-569', 'flight_AI-570', 'flight_AI-573', 'flight_AI-607', 'flight_AI-610', 'flight_AI-611', 'flight_AI-615', 'flight_AI-616', 'flight_AI-619', 'flight_AI-623', 'flight_AI-624', 'flight_AI-625', 'flight_AI-631', 'flight_AI-633', 'flight_AI-635', 'flight_AI-636', 'flight_AI-637', 'flight_AI-639', 'flight_AI-640', 'flight_AI-643', 'flight_AI-645', 'flight_AI-649', 'flight_AI-651', 'flight_AI-655', 'flight_AI-657', 'flight_AI-660', 'flight_AI-663', 'flight_AI-665', 'flight_AI-667', 'flight_AI-669', 'flight_AI-671', 'flight_AI-672', 'flight_AI-673', 'flight_AI-675', 'flight_AI-676', 'flight_AI-678', 'flight_AI-679', 'flight_AI-681', 'flight_AI-683', 'flight_AI-685', 'flight_AI-687', 'flight_AI-695', 'flight_AI-698', 'flight_AI-729', 'flight_AI-732', 'flight_AI-738', 'flight_AI-745', 'flight_AI-747', 'flight_AI-748', 'flight_AI-762', 'flight_AI-763', 'flight_AI-764', 'flight_AI-765', 'flight_AI-766', 'flight_AI-767', 'flight_AI-768', 'flight_AI-770', 'flight_AI-771', 'flight_AI-773', 'flight_AI-774', 'flight_AI-776', 'flight_AI-780', 'flight_AI-787', 'flight_AI-803', 'flight_AI-804', 'flight_AI-805', 'flight_AI-806', 'flight_AI-807', 'flight_AI-808', 'flight_AI-809', 'flight_AI-811', 'flight_AI-837', 'flight_AI-838', 'flight_AI-839', 'flight_AI-840', 'flight_AI-861', 'flight_AI-864', 'flight_AI-865', 'flight_AI-867', 'flight_AI-868', 'flight_AI-877', 'flight_AI-883', 'flight_AI-887', 'flight_AI-888', 'flight_AI-889', 'flight_AI-9501', 'flight_AI-9505', 'flight_AI-9517', 'flight_AI-9518', 'flight_AI-9547', 'flight_AI-9643', 'flight_AI-9657', 'flight_AI-9720', 'flight_AI-9745', 'flight_AI-9755', 'flight_AI-9857', 'flight_AI-9875', 'flight_AI-9876', 'flight_AI-9881', 'flight_AI-9885', 'flight_AI-9887', 'flight_AI-9891', 'flight_AI-9893', 'flight_AI-9894', 'flight_AI-9925', 'flight_AI-9927', 'flight_G8-101', 'flight_G8-1010', 'flight_G8-102', 'flight_G8-103', 'flight_G8-113', 'flight_G8-116', 'flight_G8-1171', 'flight_G8-118', 'flight_G8-119', 'flight_G8-123', 'flight_G8-125', 'flight_G8-133', 'flight_G8-1404', 'flight_G8-143', 'flight_G8-145', 'flight_G8-146', 'flight_G8-153', 'flight_G8-165', 'flight_G8-171', 'flight_G8-173', 'flight_G8-191', 'flight_G8-194', 'flight_G8-199', 'flight_G8-211', 'flight_G8-2231', 'flight_G8-227', 'flight_G8-231', 'flight_G8-237', 'flight_G8-2401', 'flight_G8-241', 'flight_G8-2501', 'flight_G8-2504', 'flight_G8-2508', 'flight_G8-2509', 'flight_G8-2511', 'flight_G8-2513', 'flight_G8-2605', 'flight_G8-2606', 'flight_G8-275', 'flight_G8-283', 'flight_G8-285', 'flight_G8-286', 'flight_G8-287', 'flight_G8-292', 'flight_G8-294', 'flight_G8-295', 'flight_G8-302', 'flight_G8-304', 'flight_G8-305', 'flight_G8-306', 'flight_G8-312', 'flight_G8-317', 'flight_G8-319', 'flight_G8-320', 'flight_G8-321', 'flight_G8-323', 'flight_G8-325', 'flight_G8-327', 'flight_G8-329', 'flight_G8-330', 'flight_G8-331', 'flight_G8-334', 'flight_G8-336', 'flight_G8-338', 'flight_G8-339', 'flight_G8-341', 'flight_G8-345', 'flight_G8-346', 'flight_G8-347', 'flight_G8-351', 'flight_G8-354', 'flight_G8-364', 'flight_G8-365', 'flight_G8-371', 'flight_G8-382', 'flight_G8-383', 'flight_G8-385', 'flight_G8-387', 'flight_G8-390', 'flight_G8-391', 'flight_G8-392', 'flight_G8-393', 'flight_G8-395', 'flight_G8-398', 'flight_G8-399', 'flight_G8-404', 'flight_G8-423', 'flight_G8-424', 'flight_G8-426', 'flight_G8-451', 'flight_G8-461', 'flight_G8-504', 'flight_G8-505', 'flight_G8-506', 'flight_G8-509', 'flight_G8-510', 'flight_G8-511', 'flight_G8-512', 'flight_G8-515', 'flight_G8-518', 'flight_G8-519', 'flight_G8-520', 'flight_G8-530', 'flight_G8-532', 'flight_G8-537', 'flight_G8-551', 'flight_G8-571', 'flight_G8-575', 'flight_G8-625', 'flight_G8-626', 'flight_G8-681', 'flight_G8-713', 'flight_G8-717', 'flight_G8-7533', 'flight_G8-7534', 'flight_G8-7535', 'flight_G8-7536', 'flight_G8-7537', 'flight_G8-7538', 'flight_G8-7543', 'flight_G8-7545', 'flight_G8-7547', 'flight_G8-7548', 'flight_G8-7549', 'flight_G8-7553', 'flight_G8-7555', 'flight_G8-7556', 'flight_G8-7559', 'flight_G8-7560', 'flight_G8-7562', 'flight_G8-787', 'flight_G8-790', 'flight_G8-791', 'flight_G8-792', 'flight_G8-803', 'flight_G8-808', 'flight_G8-812', 'flight_G8-813', 'flight_G8-873', 'flight_I5-1228', 'flight_I5-1229', 'flight_I5-1321', 'flight_I5-1426', 'flight_I5-1451', 'flight_I5-1517', 'flight_I5-1518', 'flight_I5-1528', 'flight_I5-1529', 'flight_I5-1530', 'flight_I5-1531', 'flight_I5-1540', 'flight_I5-1543', 'flight_I5-1561', 'flight_I5-1562', 'flight_I5-1563', 'flight_I5-1564', 'flight_I5-1569', 'flight_I5-1621', 'flight_I5-1727', 'flight_I5-1780', 'flight_I5-1782', 'flight_I5-1982', 'flight_I5-2461', 'flight_I5-2462', 'flight_I5-2473', 'flight_I5-2991', 'flight_I5-319', 'flight_I5-330', 'flight_I5-336', 'flight_I5-338', 'flight_I5-371', 'flight_I5-410', 'flight_I5-423', 'flight_I5-482', 'flight_I5-510', 'flight_I5-517', 'flight_I5-547', 'flight_I5-548', 'flight_I5-550', 'flight_I5-552', 'flight_I5-556', 'flight_I5-557', 'flight_I5-559', 'flight_I5-588', 'flight_I5-589', 'flight_I5-620', 'flight_I5-631', 'flight_I5-678', 'flight_I5-710', 'flight_I5-711', 'flight_I5-713', 'flight_I5-721', 'flight_I5-722', 'flight_I5-736', 'flight_I5-740', 'flight_I5-741', 'flight_I5-744', 'flight_I5-747', 'flight_I5-749', 'flight_I5-764', 'flight_I5-766', 'flight_I5-767', 'flight_I5-773', 'flight_I5-775', 'flight_I5-783', 'flight_I5-784', 'flight_I5-787', 'flight_I5-791', 'flight_I5-792', 'flight_I5-818', 'flight_I5-819', 'flight_I5-820', 'flight_I5-821', 'flight_I5-830', 'flight_I5-941', 'flight_I5-942', 'flight_I5-972', 'flight_I5-974', 'flight_I5-991', 'flight_I5-992', 'flight_I5-996', 'flight_SG-1071', 'flight_SG-1089', 'flight_SG-198', 'flight_SG-209', 'flight_SG-2277', 'flight_SG-241', 'flight_SG-2508', 'flight_SG-251', 'flight_SG-254', 'flight_SG-274', 'flight_SG-276', 'flight_SG-3002', 'flight_SG-3023', 'flight_SG-3027', 'flight_SG-3229', 'flight_SG-3233', 'flight_SG-3281', 'flight_SG-3321', 'flight_SG-337', 'flight_SG-339', 'flight_SG-3440', 'flight_SG-3719', 'flight_SG-3723', 'flight_SG-3835', 'flight_SG-3839', 'flight_SG-387', 'flight_SG-390', 'flight_SG-395', 'flight_SG-4003', 'flight_SG-4009', 'flight_SG-401', 'flight_SG-4010', 'flight_SG-4025', 'flight_SG-4027', 'flight_SG-4031', 'flight_SG-406', 'flight_SG-415', 'flight_SG-4417', 'flight_SG-467', 'flight_SG-475', 'flight_SG-488', 'flight_SG-489', 'flight_SG-5069', 'flight_SG-5073', 'flight_SG-5093', 'flight_SG-516', 'flight_SG-520', 'flight_SG-531', 'flight_SG-535', 'flight_SG-6003', 'flight_SG-6005', 'flight_SG-6027', 'flight_SG-611', 'flight_SG-612', 'flight_SG-634', 'flight_SG-635', 'flight_SG-678', 'flight_SG-679', 'flight_SG-731', 'flight_SG-732', 'flight_SG-8107', 'flight_SG-8130', 'flight_SG-8152', 'flight_SG-8157', 'flight_SG-8158', 'flight_SG-8169', 'flight_SG-8185', 'flight_SG-8187', 'flight_SG-8207', 'flight_SG-8253', 'flight_SG-8264', 'flight_SG-8645', 'flight_SG-8702', 'flight_SG-8709', 'flight_SG-8710', 'flight_SG-8721', 'flight_SG-8723', 'flight_SG-8803', 'flight_SG-8903', 'flight_SG-8905', 'flight_SG-8910', 'flight_SG-8938', 'flight_SG-8941', 'flight_SG-8946', 'flight_SG-923', 'flight_SG-946', 'flight_SG-958', 'flight_UK-613', 'flight_UK-621', 'flight_UK-627', 'flight_UK-637', 'flight_UK-651', 'flight_UK-653', 'flight_UK-655', 'flight_UK-657', 'flight_UK-659', 'flight_UK-673', 'flight_UK-705', 'flight_UK-706', 'flight_UK-707', 'flight_UK-708', 'flight_UK-720', 'flight_UK-721', 'flight_UK-727', 'flight_UK-737', 'flight_UK-738', 'flight_UK-741', 'flight_UK-747', 'flight_UK-755', 'flight_UK-771', 'flight_UK-772', 'flight_UK-773', 'flight_UK-774', 'flight_UK-775', 'flight_UK-776', 'flight_UK-778', 'flight_UK-801', 'flight_UK-802', 'flight_UK-807', 'flight_UK-808', 'flight_UK-809', 'flight_UK-810', 'flight_UK-811', 'flight_UK-812', 'flight_UK-813', 'flight_UK-814', 'flight_UK-815', 'flight_UK-816', 'flight_UK-817', 'flight_UK-818', 'flight_UK-819', 'flight_UK-820', 'flight_UK-821', 'flight_UK-822', 'flight_UK-823', 'flight_UK-824', 'flight_UK-825', 'flight_UK-826', 'flight_UK-828', 'flight_UK-829', 'flight_UK-830', 'flight_UK-832', 'flight_UK-833', 'flight_UK-834', 'flight_UK-835', 'flight_UK-836', 'flight_UK-837', 'flight_UK-838', 'flight_UK-839', 'flight_UK-841', 'flight_UK-845', 'flight_UK-846', 'flight_UK-849', 'flight_UK-850', 'flight_UK-851', 'flight_UK-852', 'flight_UK-853', 'flight_UK-854', 'flight_UK-855', 'flight_UK-857', 'flight_UK-858', 'flight_UK-859', 'flight_UK-860', 'flight_UK-863', 'flight_UK-864', 'flight_UK-865', 'flight_UK-866', 'flight_UK-867', 'flight_UK-870', 'flight_UK-871', 'flight_UK-873', 'flight_UK-874', 'flight_UK-875', 'flight_UK-876', 'flight_UK-877', 'flight_UK-878', 'flight_UK-879', 'flight_UK-880', 'flight_UK-890', 'flight_UK-893', 'flight_UK-894', 'flight_UK-897', 'flight_UK-898', 'flight_UK-899', 'flight_UK-902', 'flight_UK-910', 'flight_UK-927', 'flight_UK-928', 'flight_UK-930', 'flight_UK-933', 'flight_UK-940', 'flight_UK-941', 'flight_UK-943', 'flight_UK-944', 'flight_UK-945', 'flight_UK-950', 'flight_UK-951', 'flight_UK-953', 'flight_UK-954', 'flight_UK-955', 'flight_UK-958', 'flight_UK-960', 'flight_UK-963', 'flight_UK-970', 'flight_UK-975', 'flight_UK-977', 'flight_UK-981', 'flight_UK-985', 'flight_UK-986', 'flight_UK-988', 'flight_UK-993', 'flight_UK-994', 'flight_UK-995', 'flight_UK-996'] not in index\""
     ]
    }
   ],
   "source": [
    "scores_l = []\n",
    "scores_xgb = []\n",
    "scores_r = []\n",
    "for fold,(train_idxs,valid_idxs) in enumerate(kf.split(X=df)):\n",
    "    train_xs, train_y=df.iloc[train_idxs][features], df.iloc[train_idxs][dep_var]\n",
    "    valid_xs, valid_y=df.iloc[valid_idxs][features], df.iloc[valid_idxs][dep_var]\n",
    "    tst_xs=tst_df[features]\n",
    "    \n",
    "#     lr = LinearRegression()\n",
    "#     lr.fit(train_xs, train_y)\n",
    "#     scores_l.append(lr.predict(tst_xs))\n",
    "    \n",
    "    xgb_model = XGBRegressor()\n",
    "    xgb_model.fit(train_xs, train_y)\n",
    "    scores_xgb.append(xgb_model.predict(tst_xs))\n",
    "    \n",
    "    rf = RandomForestRegressor()\n",
    "    rf.fit(train_xs, train_y)\n",
    "    scores_r.append(rf.predict(tst_xs))\n",
    "    \n",
    "    \n",
    "    print(fold,\n",
    "         get_score(XGBRegressor(),train_xs ,valid_xs,train_y,valid_y),\n",
    "         get_score(RandomForestRegressor(n_estimators=15),train_xs ,valid_xs,train_y,valid_y))\n",
    " \n",
    "    "
   ]
  },
  {
   "cell_type": "code",
   "execution_count": null,
   "id": "a64b445e",
   "metadata": {
    "execution": {
     "iopub.execute_input": "2023-03-20T16:25:07.164720Z",
     "iopub.status.busy": "2023-03-20T16:25:07.164302Z",
     "iopub.status.idle": "2023-03-20T16:25:07.171371Z",
     "shell.execute_reply": "2023-03-20T16:25:07.170347Z",
     "shell.execute_reply.started": "2023-03-20T16:25:07.164686Z"
    },
    "papermill": {
     "duration": null,
     "end_time": null,
     "exception": null,
     "start_time": null,
     "status": "pending"
    },
    "tags": []
   },
   "outputs": [],
   "source": [
    "# scores_l = np.mean(np.column_stack(scores_l), axis=1)\n",
    "scores_xgb = np.mean(np.column_stack(scores_xgb), axis=1)\n",
    "scores_r = np.mean(np.column_stack(scores_r), axis=1)"
   ]
  },
  {
   "cell_type": "code",
   "execution_count": null,
   "id": "1818018f",
   "metadata": {
    "execution": {
     "iopub.execute_input": "2023-03-20T16:26:41.797291Z",
     "iopub.status.busy": "2023-03-20T16:26:41.796487Z",
     "iopub.status.idle": "2023-03-20T16:26:41.823662Z",
     "shell.execute_reply": "2023-03-20T16:26:41.822344Z",
     "shell.execute_reply.started": "2023-03-20T16:26:41.797246Z"
    },
    "papermill": {
     "duration": null,
     "end_time": null,
     "exception": null,
     "start_time": null,
     "status": "pending"
    },
    "tags": []
   },
   "outputs": [],
   "source": [
    "sub = scores_xgb*0.2+scores_r*0.7\n",
    "sub = {\n",
    "    'id': test_set.id.values,\n",
    "    'Price': sub\n",
    "}\n",
    "solution = pd.DataFrame(sub)\n",
    "solution.to_csv('submission.csv',index=False)"
   ]
  },
  {
   "cell_type": "code",
   "execution_count": null,
   "id": "7d8ea4d2",
   "metadata": {
    "papermill": {
     "duration": null,
     "end_time": null,
     "exception": null,
     "start_time": null,
     "status": "pending"
    },
    "tags": []
   },
   "outputs": [],
   "source": []
  }
 ],
 "metadata": {
  "kernelspec": {
   "display_name": "Python 3",
   "language": "python",
   "name": "python3"
  },
  "language_info": {
   "codemirror_mode": {
    "name": "ipython",
    "version": 3
   },
   "file_extension": ".py",
   "mimetype": "text/x-python",
   "name": "python",
   "nbconvert_exporter": "python",
   "pygments_lexer": "ipython3",
   "version": "3.7.12"
  },
  "papermill": {
   "default_parameters": {},
   "duration": 21.96394,
   "end_time": "2023-03-20T16:30:00.250706",
   "environment_variables": {},
   "exception": true,
   "input_path": "__notebook__.ipynb",
   "output_path": "__notebook__.ipynb",
   "parameters": {},
   "start_time": "2023-03-20T16:29:38.286766",
   "version": "2.4.0"
  }
 },
 "nbformat": 4,
 "nbformat_minor": 5
}
