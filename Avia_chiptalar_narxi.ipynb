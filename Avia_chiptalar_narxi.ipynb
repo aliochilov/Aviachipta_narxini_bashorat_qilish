{
  "nbformat": 4,
  "nbformat_minor": 0,
  "metadata": {
    "colab": {
      "provenance": [],
      "authorship_tag": "ABX9TyMC0AkEMFUMY6eVyjGl3mB4",
      "include_colab_link": true
    },
    "kernelspec": {
      "name": "python3",
      "display_name": "Python 3"
    },
    "language_info": {
      "name": "python"
    },
    "gpuClass": "standard"
  },
  "cells": [
    {
      "cell_type": "markdown",
      "metadata": {
        "id": "view-in-github",
        "colab_type": "text"
      },
      "source": [
        "<a href=\"https://colab.research.google.com/github/aliochilov/Aviachipta_narxini_bashorat_qilish/blob/main/Avia_chiptalar_narxi.ipynb\" target=\"_parent\"><img src=\"https://colab.research.google.com/assets/colab-badge.svg\" alt=\"Open In Colab\"/></a>"
      ]
    },
    {
      "cell_type": "code",
      "execution_count": 230,
      "metadata": {
        "id": "i3pIqKo_2Jm8"
      },
      "outputs": [],
      "source": [
        "import pandas as pd\n",
        "import numpy as np\n",
        "import sklearn \n",
        "import matplotlib.pyplot as plt\n",
        "%matplotlib inline\n",
        "import seaborn as sns\n",
        "from sklearn.pipeline import Pipeline\n",
        "from sklearn.impute import SimpleImputer\n",
        "from sklearn.preprocessing import OneHotEncoder, StandardScaler\n",
        "from sklearn.compose import ColumnTransformer\n",
        "from sklearn.linear_model import LinearRegression"
      ]
    },
    {
      "cell_type": "code",
      "source": [
        "test_set = pd.read_csv('https://github.com/aliochilov/Aviachipta_narxini_bashorat_qilish/blob/main/test_data.csv?raw=True')\n",
        "train_set = pd.read_csv('https://github.com/aliochilov/Aviachipta_narxini_bashorat_qilish/blob/main/train_data.csv?raw=True')\n",
        "\n",
        "X_test = test_set.drop(['id','flight'] ,axis=1)\n",
        "\n",
        "X_train = train_set.drop(['id','flight','price'] ,axis=1)\n",
        "y = train_set['price'].copy()\n",
        "\n",
        "\n",
        "X_num = X_train.drop(['class','airline','stops','source_city','destination_city','departure_time', 'arrival_time'], axis=1)"
      ],
      "metadata": {
        "id": "78lU1YaC3C1i"
      },
      "execution_count": 348,
      "outputs": []
    },
    {
      "cell_type": "code",
      "source": [
        "X_train.info()"
      ],
      "metadata": {
        "id": "llBTHL3-Nm_c"
      },
      "execution_count": null,
      "outputs": []
    },
    {
      "cell_type": "code",
      "source": [
        "\n",
        "num_pipeline = Pipeline([\n",
        "          ('std_scaler', StandardScaler())             \n",
        "])\n",
        "num_attribs = list(X_num)\n",
        "cat_attribs = ['class','airline','stops','source_city','destination_city','departure_time', 'arrival_time']\n",
        "\n",
        "full_pipeline = ColumnTransformer([\n",
        "    ('num', num_pipeline, num_attribs),\n",
        "    ('cat', OneHotEncoder(), cat_attribs)\n",
        "])\n",
        "X_prepared = full_pipeline.fit_transform(X_train)"
      ],
      "metadata": {
        "id": "KN5gZZBOUz5F"
      },
      "execution_count": 349,
      "outputs": []
    },
    {
      "cell_type": "code",
      "source": [
        "LR_model = LinearRegression()\n",
        "LR_model.fit(X_prepared, y)"
      ],
      "metadata": {
        "id": "p1w8ZvdjU0OI",
        "colab": {
          "base_uri": "https://localhost:8080/"
        },
        "outputId": "e8673c34-b1bc-4064-ecd5-9cf6de75d46d"
      },
      "execution_count": 350,
      "outputs": [
        {
          "output_type": "execute_result",
          "data": {
            "text/plain": [
              "LinearRegression()"
            ]
          },
          "metadata": {},
          "execution_count": 350
        }
      ]
    },
    {
      "cell_type": "code",
      "source": [
        "X_test_prepared = full_pipeline.transform(X_train)\n",
        "y_predicted = LR_model.predict(X_test_prepared)"
      ],
      "metadata": {
        "id": "ocmz81dxHDXv"
      },
      "execution_count": 351,
      "outputs": []
    },
    {
      "cell_type": "code",
      "source": [
        "# Modelni baholaymiz\n",
        "from sklearn.tree import DecisionTreeRegressor\n",
        "Tree_model = DecisionTreeRegressor()\n",
        "Tree_model.fit(X_prepared, y)\n",
        "y_predicted = Tree_model.predict(X_test_prepared)"
      ],
      "metadata": {
        "id": "R_lc81VZmN_q"
      },
      "execution_count": 352,
      "outputs": []
    },
    {
      "cell_type": "code",
      "source": [
        "from sklearn.metrics import mean_squared_error\n",
        "lin_mse = mean_squared_error(y, y_predicted)\n",
        "lin_rmse = np.sqrt(lin_mse)\n",
        "print(lin_rmse)"
      ],
      "metadata": {
        "colab": {
          "base_uri": "https://localhost:8080/"
        },
        "id": "H8VxC2UkG5dI",
        "outputId": "f8f22128-cf89-4104-f316-0b00e4c8a73f"
      },
      "execution_count": 353,
      "outputs": [
        {
          "output_type": "stream",
          "name": "stdout",
          "text": [
            "252.5643964912711\n"
          ]
        }
      ]
    },
    {
      "cell_type": "code",
      "source": [
        "# test_set malumotlarni bashorat qilamiz\n",
        "test_prepared = full_pipeline.fit_transform(X_test)\n",
        "y_test_predicted = LR_model.predict(test_prepared)\n",
        "df =  pd.DataFrame(y_test_predicted,columns=['price'])\n",
        "df.index = test_set['id']\n",
        "df.to_csv('chiptalar_narxi.csv', index=True)\n"
      ],
      "metadata": {
        "id": "qNwc-ZLOHp8L"
      },
      "execution_count": 355,
      "outputs": []
    }
  ]
}